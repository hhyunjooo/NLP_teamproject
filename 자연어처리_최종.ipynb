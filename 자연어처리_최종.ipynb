{
 "cells": [
  {
   "cell_type": "markdown",
   "id": "e8b4c144",
   "metadata": {
    "id": "uyQo435mscfm"
   },
   "source": [
    "## 1. tsv파일 load"
   ]
  },
  {
   "cell_type": "code",
   "execution_count": 1,
   "id": "6ba43bd1",
   "metadata": {
    "colab": {
     "base_uri": "https://localhost:8080/"
    },
    "id": "aWgKUjH7scfx",
    "outputId": "2f7346ba-8aff-4838-ff95-615213f47334"
   },
   "outputs": [
    {
     "name": "stdout",
     "output_type": "stream",
     "text": [
      "    filename                                        description\n",
      "0      0.png  She is a Westerner who appears to be in her 30...\n",
      "1      1.png  Looking middle-aged, he has grayish brown hair...\n",
      "2      2.png  He looks like an Asian in his 30s.It's brown h...\n",
      "3      3.png  He looks like a Westerner in his twenties.It h...\n",
      "4      4.png  She looks like a Western in her thirties.It ha...\n",
      "..       ...                                                ...\n",
      "345  345.png  She looks like early 50s.Her eyebrows are soft...\n",
      "346  346.png  He looks like mid to late 40s.He has medium na...\n",
      "347  347.png  He looks like mid to late 40s.His eyebrows are...\n",
      "348  348.png  He looks like mid to late 40s.He has thick fla...\n",
      "349  349.png  She looks like late 20s to early 30s.It is a s...\n",
      "\n",
      "[350 rows x 2 columns]\n"
     ]
    }
   ],
   "source": [
    "import pandas as pd\n",
    "df = pd.read_csv('NLP_1분반 (1).tsv', sep='\\t') #tap으로 구별 되어 있음 =\\t\n",
    "print(df)"
   ]
  },
  {
   "cell_type": "markdown",
   "id": "d8dc9642",
   "metadata": {},
   "source": [
    "### DataFrame -> list 배열에 넣어줌"
   ]
  },
  {
   "cell_type": "code",
   "execution_count": 2,
   "id": "676bb09c",
   "metadata": {
    "id": "NarY5Yycscf7"
   },
   "outputs": [],
   "source": [
    "sent=[] # 비여있는 배열 선언\n",
    "for i in range(df.shape[0]):\n",
    "    sent.extend(list(df.loc[[i],['description'][0]])) "
   ]
  },
  {
   "cell_type": "code",
   "execution_count": 3,
   "id": "c2614fdd",
   "metadata": {},
   "outputs": [
    {
     "data": {
      "text/plain": [
       "\"She is a Westerner who appears to be in her 30s.It has white, red, and yellow skin.It has long brown straight hair.her skin is good.They are thin eyebrows with arches and have double eyelids and thick eyelashes.There's a fat under my eye.It has an iris mixed with brown and green.She has a high nose with a slight view of her nostrils.She has a smile that reveals her teeth.She has front cheekbones, round face, and small ears.She looks like 30-year-old.She has medium rounded arch eyebrows.She has black curly eyelashes.She has double eyelid.She has big prominent hazel eyes.She has bow shaped lips.She has refined nose.She has rectangular face shape and large cheekbone.She has curved forehead.She has a little bit a wrinkles around her eyes and warm ivory skin color.She has long straight light reddish-brown hair.She is wearing earrings.She is a middle-aged Western woman.She has eye wrinkles and smile lines.Her skin color is bright and there is no mole on the face.She is wearing makeup and long earrings.She has medium ears.Her face is round-shaped.She has round medium forehead and brown long straight hair.She parts her hair at the side.She has dark double outer eyelids, thin eyebrows, long green-brown eyes to the side.She has a broad nose tip and low, short and big nose.Nostrils are more than half visible.She is smiling slightly and appears 8 yellow upper teeth.She has a big mouth and thin and deep red lips.\""
      ]
     },
     "execution_count": 3,
     "metadata": {},
     "output_type": "execute_result"
    }
   ],
   "source": [
    "sent[0]"
   ]
  },
  {
   "cell_type": "markdown",
   "id": "42c5ae5d",
   "metadata": {
    "id": "Ae2QVjPuscf3"
   },
   "source": [
    "## 2. 전처리"
   ]
  },
  {
   "cell_type": "markdown",
   "id": "9c87ec13",
   "metadata": {},
   "source": [
    "### 1) 정제: 소문자로 통일"
   ]
  },
  {
   "cell_type": "code",
   "execution_count": 4,
   "id": "93c0150b",
   "metadata": {},
   "outputs": [],
   "source": [
    "text = []\n",
    "for i in sent:\n",
    "    text.append(i.lower())"
   ]
  },
  {
   "cell_type": "code",
   "execution_count": 5,
   "id": "c2942915",
   "metadata": {},
   "outputs": [
    {
     "data": {
      "text/plain": [
       "\"she is a westerner who appears to be in her 30s.it has white, red, and yellow skin.it has long brown straight hair.her skin is good.they are thin eyebrows with arches and have double eyelids and thick eyelashes.there's a fat under my eye.it has an iris mixed with brown and green.she has a high nose with a slight view of her nostrils.she has a smile that reveals her teeth.she has front cheekbones, round face, and small ears.she looks like 30-year-old.she has medium rounded arch eyebrows.she has black curly eyelashes.she has double eyelid.she has big prominent hazel eyes.she has bow shaped lips.she has refined nose.she has rectangular face shape and large cheekbone.she has curved forehead.she has a little bit a wrinkles around her eyes and warm ivory skin color.she has long straight light reddish-brown hair.she is wearing earrings.she is a middle-aged western woman.she has eye wrinkles and smile lines.her skin color is bright and there is no mole on the face.she is wearing makeup and long earrings.she has medium ears.her face is round-shaped.she has round medium forehead and brown long straight hair.she parts her hair at the side.she has dark double outer eyelids, thin eyebrows, long green-brown eyes to the side.she has a broad nose tip and low, short and big nose.nostrils are more than half visible.she is smiling slightly and appears 8 yellow upper teeth.she has a big mouth and thin and deep red lips.\""
      ]
     },
     "execution_count": 5,
     "metadata": {},
     "output_type": "execute_result"
    }
   ],
   "source": [
    "text[0]"
   ]
  },
  {
   "cell_type": "markdown",
   "id": "3f36c7ff",
   "metadata": {},
   "source": [
    "### 2) 토큰화: Sent_Tokenization"
   ]
  },
  {
   "cell_type": "code",
   "execution_count": 6,
   "id": "435edb20",
   "metadata": {},
   "outputs": [],
   "source": [
    "#빈 배열 선언\n",
    "temp=[]\n",
    "linetext=[]\n",
    "\n",
    "# . 을 기준으로 split 한뒤 linetext에 저장\n",
    "for i in range(0,len(text)):\n",
    "    temp = text[i].split('.')\n",
    "    linetext.append(temp[:-1])"
   ]
  },
  {
   "cell_type": "code",
   "execution_count": 7,
   "id": "d43dffea",
   "metadata": {},
   "outputs": [
    {
     "data": {
      "text/plain": [
       "['she is a westerner who appears to be in her 30s',\n",
       " 'it has white, red, and yellow skin',\n",
       " 'it has long brown straight hair',\n",
       " 'her skin is good',\n",
       " 'they are thin eyebrows with arches and have double eyelids and thick eyelashes',\n",
       " \"there's a fat under my eye\",\n",
       " 'it has an iris mixed with brown and green',\n",
       " 'she has a high nose with a slight view of her nostrils',\n",
       " 'she has a smile that reveals her teeth',\n",
       " 'she has front cheekbones, round face, and small ears',\n",
       " 'she looks like 30-year-old',\n",
       " 'she has medium rounded arch eyebrows',\n",
       " 'she has black curly eyelashes',\n",
       " 'she has double eyelid',\n",
       " 'she has big prominent hazel eyes',\n",
       " 'she has bow shaped lips',\n",
       " 'she has refined nose',\n",
       " 'she has rectangular face shape and large cheekbone',\n",
       " 'she has curved forehead',\n",
       " 'she has a little bit a wrinkles around her eyes and warm ivory skin color',\n",
       " 'she has long straight light reddish-brown hair',\n",
       " 'she is wearing earrings',\n",
       " 'she is a middle-aged western woman',\n",
       " 'she has eye wrinkles and smile lines',\n",
       " 'her skin color is bright and there is no mole on the face',\n",
       " 'she is wearing makeup and long earrings',\n",
       " 'she has medium ears',\n",
       " 'her face is round-shaped',\n",
       " 'she has round medium forehead and brown long straight hair',\n",
       " 'she parts her hair at the side',\n",
       " 'she has dark double outer eyelids, thin eyebrows, long green-brown eyes to the side',\n",
       " 'she has a broad nose tip and low, short and big nose',\n",
       " 'nostrils are more than half visible',\n",
       " 'she is smiling slightly and appears 8 yellow upper teeth',\n",
       " 'she has a big mouth and thin and deep red lips']"
      ]
     },
     "execution_count": 7,
     "metadata": {},
     "output_type": "execute_result"
    }
   ],
   "source": [
    "linetext[0]"
   ]
  },
  {
   "cell_type": "markdown",
   "id": "393021e0",
   "metadata": {
    "id": "4O7a5XLpscf-"
   },
   "source": [
    "### 2) 토큰화: 부위별로 나누기"
   ]
  },
  {
   "cell_type": "code",
   "execution_count": 8,
   "id": "3b7227f0",
   "metadata": {
    "id": "xfMfTqN4scgJ"
   },
   "outputs": [],
   "source": [
    "#부위 별 구별을 위한 키워드\n",
    "k_eye=[\"eye\", \"eyes\", \"pupil\", \"pupils\", \"eyelid\", \"eyelids\", \"eyelash\", \"eyelashes\", \"eyebrow\", \"eyebrows\", \"iris\"]\n",
    "k_nose=[\"nose\", \"nostrils\", \"nostril\", \"nose tip\"]\n",
    "k_mouth=[\"mouth\", \"smile\", \"oral angle\", \"teeth\", \"tooth\", \"lip\", \"lips\"]\n",
    "k_face=[\"ear\", \"ears\", \"cheek\", \"cheekbone\", \"cheekbones\", \"forehead\", \"round-shaped\", \"egg-shaped\",\"V-shaped\"]\n",
    "k_hair=[\"hair\", \"mustache\", \"beard\", \"sideburns\"]\n",
    "k_skin=[\"skin\", \"wrinkle\", \"wrinkles\", \"freckle\", \"freckles\", \"mole\", \"moles\"]\n",
    "k_race=[\"westerner\", \"western\", \"asian\", \"oriental\", \"white\"]\n",
    "k_age=[\"10s\", \"20s\", \"30s\", \"40s\", \"50s\", \"60s\", \"10-year-old\", \"20-year-old\", \"30-year-old\", \"40-year-old\", \"50-year-old\", \"60-year-old\", \"middle-aged\", \"baby\", \"child\", \"teenager\", \"young\", \"twenties\", \"thirties\"]\n",
    "k_gender=[\"man\", \"male\", \"female\", \"woman\"]\n",
    "\n",
    "\n",
    "\n",
    "#부위별 특징을 담을 새 배열 선언\n",
    "eye=[[] for i in range(350)]\n",
    "nose=[[] for i in range(350)]\n",
    "mouth=[[] for i in range(350)]\n",
    "face=[[] for i in range(350)]\n",
    "hair=[[] for i in range(350)]\n",
    "skin=[[] for i in range(350)]\n",
    "race=[[] for i in range(350)]\n",
    "age=[[] for i in range(350)]\n",
    "gender=[[] for i in range(350)]\n",
    "\n",
    "#eye\n",
    "k=0\n",
    "while k != len(linetext): #linetext 번 반복\n",
    "  for u in range(len(linetext)):\n",
    "    for j in k_eye: \n",
    "      for i in linetext[u]:\n",
    "          if j in i: # k_eye가 inetext[u]의 i 문장에 포함되어 있고\n",
    "            if i not in eye[k]:# 중복되지 않으면 \n",
    "              eye[k].append(i) # 해당 부위 k번째 배열에 저장\n",
    "    k = k+1\n",
    "\n",
    "#nose\n",
    "k=0\n",
    "while k != len(linetext):\n",
    "  for u in range(len(linetext)):\n",
    "    for j in k_nose: \n",
    "      for i in linetext[u]:\n",
    "          if j in i:\n",
    "            if i not in nose[k]:\n",
    "              nose[k].append(i)\n",
    "    k = k+1\n",
    "    \n",
    "#mouth\n",
    "k=0\n",
    "while k != len(linetext):\n",
    "  for u in range(len(linetext)):\n",
    "    for j in k_mouth: \n",
    "      for i in linetext[u]:\n",
    "          if j in i:\n",
    "            if i not in mouth[k]:\n",
    "              mouth[k].append(i)\n",
    "    k = k+1\n",
    "    \n",
    "#face\n",
    "k=0\n",
    "while k != len(linetext):\n",
    "  for u in range(len(linetext)):\n",
    "    for j in k_face: \n",
    "      for i in linetext[u]:\n",
    "          if j in i:\n",
    "            if i not in face[k]:\n",
    "              face[k].append(i)\n",
    "    k = k+1\n",
    "    \n",
    "#hair\n",
    "k=0\n",
    "while k != len(linetext):\n",
    "  for u in range(len(linetext)):\n",
    "    for j in k_hair: \n",
    "      for i in linetext[u]:\n",
    "          if j in i:\n",
    "            if i not in hair[k]:\n",
    "              hair[k].append(i)\n",
    "    k = k+1\n",
    "    \n",
    "#skin\n",
    "k=0\n",
    "while k != len(linetext):\n",
    "  for u in range(len(linetext)):\n",
    "    for j in k_skin: \n",
    "      for i in linetext[u]:\n",
    "          if j in i:\n",
    "            if i not in skin[k]:\n",
    "              skin[k].append(i)\n",
    "    k = k+1\n",
    "    \n",
    "#race\n",
    "k=0\n",
    "while k != len(linetext):\n",
    "  for u in range(len(linetext)):\n",
    "    for j in k_race: \n",
    "      for i in linetext[u]:\n",
    "          if j in i:\n",
    "            if i not in race[k]:\n",
    "              race[k].append(i)\n",
    "    k = k+1\n",
    "    \n",
    "#age\n",
    "k=0\n",
    "while k != len(linetext):\n",
    "  for u in range(len(linetext)):\n",
    "    for j in k_age: \n",
    "      for i in linetext[u]:\n",
    "          if j in i:\n",
    "            if i not in age[k]:\n",
    "              age[k].append(i)\n",
    "    k = k+1\n",
    "#gender\n",
    "k=0\n",
    "while k != len(linetext):\n",
    "  for u in range(len(linetext)):\n",
    "    for j in k_gender: \n",
    "      for i in linetext[u]:\n",
    "          if j in i:\n",
    "            if i not in gender[k]:\n",
    "              gender[k].append(i)\n",
    "    k = k+1"
   ]
  },
  {
   "cell_type": "code",
   "execution_count": 9,
   "id": "0f932e9c",
   "metadata": {
    "colab": {
     "base_uri": "https://localhost:8080/"
    },
    "id": "RDUhGNI156Nt",
    "outputId": "78a86702-6722-40b9-dd86-37de361244f6",
    "scrolled": true
   },
   "outputs": [
    {
     "name": "stdout",
     "output_type": "stream",
     "text": [
      "\t\n",
      "eye:  ['they are thin eyebrows with arches and have double eyelids and thick eyelashes', \"there's a fat under my eye\", 'she has medium rounded arch eyebrows', 'she has black curly eyelashes', 'she has double eyelid', 'she has big prominent hazel eyes', 'she has a little bit a wrinkles around her eyes and warm ivory skin color', 'she has eye wrinkles and smile lines', 'she has dark double outer eyelids, thin eyebrows, long green-brown eyes to the side', 'it has an iris mixed with brown and green']\n",
      "\t\n",
      "nose:  ['she has a high nose with a slight view of her nostrils', 'she has refined nose', 'she has a broad nose tip and low, short and big nose', 'nostrils are more than half visible']\n",
      "\t\n",
      "mouth:  ['she has a big mouth and thin and deep red lips', 'she has a smile that reveals her teeth', 'she has eye wrinkles and smile lines', 'she is smiling slightly and appears 8 yellow upper teeth', 'she has bow shaped lips']\n",
      "\t\n",
      "face:  ['she is a westerner who appears to be in her 30s', 'she has front cheekbones, round face, and small ears', 'she looks like 30-year-old', 'she is wearing earrings', 'she is wearing makeup and long earrings', 'she has medium ears', 'she is smiling slightly and appears 8 yellow upper teeth', 'she has rectangular face shape and large cheekbone', 'she has curved forehead', 'she has round medium forehead and brown long straight hair', 'her face is round-shaped']\n",
      "\t\n",
      "hair:  ['it has long brown straight hair', 'she has long straight light reddish-brown hair', 'she has round medium forehead and brown long straight hair', 'she parts her hair at the side']\n",
      "\t\n",
      "skin:  ['it has white, red, and yellow skin', 'her skin is good', 'she has a little bit a wrinkles around her eyes and warm ivory skin color', 'her skin color is bright and there is no mole on the face', 'she has eye wrinkles and smile lines']\n",
      "\t\n",
      "race:  ['she is a westerner who appears to be in her 30s', 'she is a middle-aged western woman', 'it has white, red, and yellow skin']\n",
      "\t\n",
      "age:  ['she is a westerner who appears to be in her 30s', 'she looks like 30-year-old', 'she is a middle-aged western woman']\n",
      "\t\n",
      "gender:  ['she is a middle-aged western woman']\n"
     ]
    }
   ],
   "source": [
    "linetext[0]\n",
    "\n",
    "print(\"\\t\")\n",
    "print(\"eye: \",eye[0])\n",
    "print(\"\\t\")\n",
    "print(\"nose: \", nose[0])\n",
    "print(\"\\t\")\n",
    "print(\"mouth: \", mouth[0])\n",
    "print(\"\\t\")\n",
    "print(\"face: \", face[0])\n",
    "print(\"\\t\")\n",
    "print(\"hair: \", hair[0])\n",
    "print(\"\\t\")\n",
    "print(\"skin: \", skin[0])\n",
    "print(\"\\t\")\n",
    "print(\"race: \", race[0])\n",
    "print(\"\\t\")\n",
    "print(\"age: \", age[0])\n",
    "print(\"\\t\")\n",
    "print(\"gender: \", gender[0])"
   ]
  },
  {
   "cell_type": "markdown",
   "id": "e1438f13",
   "metadata": {},
   "source": [
    "### 3) 불용어 제거: 특수문자 제거"
   ]
  },
  {
   "cell_type": "code",
   "execution_count": 10,
   "id": "ef8b592b",
   "metadata": {},
   "outputs": [],
   "source": [
    "#문자와 붙어있는 특수 문자 지우기 ex> 'they -> they\n",
    "\n",
    "#지울 문자 넣음\n",
    "characters = \"'\",\",\", \"!\", \"?\" ,\"]\",\"[\"\n",
    "\n",
    "for i in range(len(linetext)):\n",
    "    string = str(eye[i])\n",
    "    string = ''.join( x for x in string if x not in characters)\n",
    "    eye[i] = string\n",
    "    \n",
    "for i in range(len(linetext)):\n",
    "    string = str(nose[i])\n",
    "    string = ''.join( x for x in string if x not in characters)\n",
    "    nose[i] = string\n",
    "    \n",
    "for i in range(len(linetext)):\n",
    "    string = str(mouth[i])\n",
    "    string = ''.join( x for x in string if x not in characters)\n",
    "    mouth[i] = string\n",
    "    \n",
    "for i in range(len(linetext)):\n",
    "    string = str(face[i])\n",
    "    string = ''.join( x for x in string if x not in characters)\n",
    "    face[i] = string\n",
    "    \n",
    "for i in range(len(linetext)):\n",
    "    string = str(hair[i])\n",
    "    string = ''.join( x for x in string if x not in characters)\n",
    "    hair[i] = string\n",
    "    \n",
    "for i in range(len(linetext)):\n",
    "    string = str(skin[i])\n",
    "    string = ''.join( x for x in string if x not in characters)\n",
    "    skin[i] = string\n",
    "    \n",
    "for i in range(len(linetext)):\n",
    "    string = str(race[i])\n",
    "    string = ''.join( x for x in string if x not in characters)\n",
    "    race[i] = string\n",
    "    \n",
    "for i in range(len(linetext)):\n",
    "    string = str(age[i])\n",
    "    string = ''.join( x for x in string if x not in characters)\n",
    "    age[i] = string\n",
    "    \n",
    "for i in range(len(linetext)):\n",
    "    string = str(gender[i])\n",
    "    string = ''.join( x for x in string if x not in characters)\n",
    "    gender[i] = string \n"
   ]
  },
  {
   "cell_type": "markdown",
   "id": "bbcaca36",
   "metadata": {},
   "source": [
    "### 4) 불용어 제거 : 사전 이용"
   ]
  },
  {
   "cell_type": "code",
   "execution_count": 11,
   "id": "f3856356",
   "metadata": {
    "id": "rB0By2z856Nv",
    "scrolled": false
   },
   "outputs": [],
   "source": [
    "from nltk.corpus import stopwords \n",
    "from nltk.tokenize import word_tokenize \n",
    "stop_words = set(stopwords.words('english')) \n",
    "# stop_words= set(nltk.download('stopwords'))\n",
    "stop_words.update(('[','\"',']',',',\"'\",'``',\"''\",\"theres\")) # 불용어 사전 추가"
   ]
  },
  {
   "cell_type": "code",
   "execution_count": 12,
   "id": "f20f2aec",
   "metadata": {
    "colab": {
     "base_uri": "https://localhost:8080/"
    },
    "id": "9qaRgx9156Nv",
    "outputId": "f6312dfd-0a38-4128-e33d-8fb6f653632b"
   },
   "outputs": [
    {
     "name": "stdout",
     "output_type": "stream",
     "text": [
      "['i', 'me', 'my', 'myself', 'we', 'our', 'ours', 'ourselves', 'you', \"you're\", \"you've\", \"you'll\", \"you'd\", 'your', 'yours', 'yourself', 'yourselves', 'he', 'him', 'his', 'himself', 'she', \"she's\", 'her', 'hers', 'herself', 'it', \"it's\", 'its', 'itself', 'they', 'them', 'their', 'theirs', 'themselves', 'what', 'which', 'who', 'whom', 'this', 'that', \"that'll\", 'these', 'those', 'am', 'is', 'are', 'was', 'were', 'be', 'been', 'being', 'have', 'has', 'had', 'having', 'do', 'does', 'did', 'doing', 'a', 'an', 'the', 'and', 'but', 'if', 'or', 'because', 'as', 'until', 'while', 'of', 'at', 'by', 'for', 'with', 'about', 'against', 'between', 'into', 'through', 'during', 'before', 'after', 'above', 'below', 'to', 'from', 'up', 'down', 'in', 'out', 'on', 'off', 'over', 'under', 'again', 'further', 'then', 'once', 'here', 'there', 'when', 'where', 'why', 'how', 'all', 'any', 'both', 'each', 'few', 'more', 'most', 'other', 'some', 'such', 'no', 'nor', 'not', 'only', 'own', 'same', 'so', 'than', 'too', 'very', 's', 't', 'can', 'will', 'just', 'don', \"don't\", 'should', \"should've\", 'now', 'd', 'll', 'm', 'o', 're', 've', 'y', 'ain', 'aren', \"aren't\", 'couldn', \"couldn't\", 'didn', \"didn't\", 'doesn', \"doesn't\", 'hadn', \"hadn't\", 'hasn', \"hasn't\", 'haven', \"haven't\", 'isn', \"isn't\", 'ma', 'mightn', \"mightn't\", 'mustn', \"mustn't\", 'needn', \"needn't\", 'shan', \"shan't\", 'shouldn', \"shouldn't\", 'wasn', \"wasn't\", 'weren', \"weren't\", 'won', \"won't\", 'wouldn', \"wouldn't\"]\n"
     ]
    }
   ],
   "source": [
    "print(stopwords.words('english'))"
   ]
  },
  {
   "cell_type": "code",
   "execution_count": 13,
   "id": "f0d49404",
   "metadata": {
    "id": "3NELCKiL56Nw"
   },
   "outputs": [],
   "source": [
    "#불용어 제거한 배열 선언\n",
    "eye_res =[[] for i in range(350)]\n",
    "nose_res=[[] for i in range(350)]\n",
    "mouth_res=[[] for i in range(350)]\n",
    "face_res=[[] for i in range(350)]\n",
    "hair_res=[[] for i in range(350)]\n",
    "skin_res=[[] for i in range(350)]\n",
    "race_res=[[] for i in range(350)]\n",
    "age_res=[[] for i in range(350)]\n",
    "gender_res=[[] for i in range(350)]\n",
    "\n",
    "#eye\n",
    "for i in range(len(linetext)):\n",
    "    word_tokens = word_tokenize(str(eye[i]))\n",
    "    for w in word_tokens: \n",
    "        if w not in stop_words:\n",
    "            eye_res[i].append(w) \n",
    "\n",
    "#nose\n",
    "for i in range(len(linetext)):\n",
    "    word_tokens = word_tokenize(str(nose[i]))\n",
    "    for w in word_tokens: \n",
    "        if w not in stop_words: \n",
    "            nose_res[i].append(w)\n",
    "#mouth\n",
    "for i in range(len(linetext)):\n",
    "    word_tokens = word_tokenize(str(mouth[i]))\n",
    "    for w in word_tokens: \n",
    "        if w not in stop_words: \n",
    "            mouth_res[i].append(w)            \n",
    "            \n",
    "            \n",
    "#face\n",
    "for i in range(len(linetext)):\n",
    "    word_tokens = word_tokenize(str(face[i]))\n",
    "    for w in word_tokens: \n",
    "        if w not in stop_words: \n",
    "            face_res[i].append(w) \n",
    "            \n",
    "#hair\n",
    "for i in range(len(linetext)):\n",
    "    word_tokens = word_tokenize(str(hair[i]))\n",
    "    for w in word_tokens: \n",
    "        if w not in stop_words: \n",
    "            hair_res[i].append(w) \n",
    "\n",
    "#skin\n",
    "for i in range(len(linetext)):\n",
    "    word_tokens = word_tokenize(str(skin[i]))\n",
    "    for w in word_tokens: \n",
    "        if w not in stop_words: \n",
    "            skin_res[i].append(w) \n",
    "            \n",
    "#race\n",
    "for i in range(len(linetext)):\n",
    "    word_tokens = word_tokenize(str(race[i]))\n",
    "    for w in word_tokens: \n",
    "        if w not in stop_words: \n",
    "            race_res[i].append(w) \n",
    "        \n",
    "#age\n",
    "for i in range(len(linetext)):\n",
    "    word_tokens = word_tokenize(str(age[i]))\n",
    "    for w in word_tokens: \n",
    "        if w not in stop_words: \n",
    "            age_res[i].append(w) \n",
    "\n",
    "#gender\n",
    "for i in range(len(linetext)):\n",
    "    word_tokens = word_tokenize(str(gender[i]))\n",
    "    for w in word_tokens: \n",
    "        if w not in stop_words: \n",
    "            gender_res[i].append(w) "
   ]
  },
  {
   "cell_type": "code",
   "execution_count": 14,
   "id": "a97b69a7",
   "metadata": {
    "colab": {
     "base_uri": "https://localhost:8080/",
     "height": 88
    },
    "id": "YnQckyiU56Nw",
    "outputId": "ca5a9171-003f-49d1-ffb9-be289eee7b67"
   },
   "outputs": [
    {
     "data": {
      "text/plain": [
       "'they are thin eyebrows with arches and have double eyelids and thick eyelashes \"theres a fat under my eye\" she has medium rounded arch eyebrows she has black curly eyelashes she has double eyelid she has big prominent hazel eyes she has a little bit a wrinkles around her eyes and warm ivory skin color she has eye wrinkles and smile lines she has dark double outer eyelids thin eyebrows long green-brown eyes to the side it has an iris mixed with brown and green'"
      ]
     },
     "execution_count": 14,
     "metadata": {},
     "output_type": "execute_result"
    }
   ],
   "source": [
    "eye[0]"
   ]
  },
  {
   "cell_type": "code",
   "execution_count": 15,
   "id": "4a8864a9",
   "metadata": {
    "colab": {
     "base_uri": "https://localhost:8080/"
    },
    "id": "K5sY6uMf56Nw",
    "outputId": "322b5127-3b76-4ca8-cf6d-9f4fdd124e23",
    "scrolled": true
   },
   "outputs": [
    {
     "name": "stdout",
     "output_type": "stream",
     "text": [
      "['thin', 'eyebrows', 'arches', 'double', 'eyelids', 'thick', 'eyelashes', 'fat', 'eye', 'medium', 'rounded', 'arch', 'eyebrows', 'black', 'curly', 'eyelashes', 'double', 'eyelid', 'big', 'prominent', 'hazel', 'eyes', 'little', 'bit', 'wrinkles', 'around', 'eyes', 'warm', 'ivory', 'skin', 'color', 'eye', 'wrinkles', 'smile', 'lines', 'dark', 'double', 'outer', 'eyelids', 'thin', 'eyebrows', 'long', 'green-brown', 'eyes', 'side', 'iris', 'mixed', 'brown', 'green']\n"
     ]
    }
   ],
   "source": [
    "print (eye_res[0])"
   ]
  },
  {
   "cell_type": "code",
   "execution_count": 16,
   "id": "4b73f136",
   "metadata": {
    "colab": {
     "base_uri": "https://localhost:8080/",
     "height": 53
    },
    "id": "ru3y4MkB56Nx",
    "outputId": "842ad3b7-f7e2-47c3-817c-e0d22778ec48"
   },
   "outputs": [
    {
     "data": {
      "text/plain": [
       "'she has a high nose with a slight view of her nostrils she has refined nose she has a broad nose tip and low short and big nose nostrils are more than half visible'"
      ]
     },
     "execution_count": 16,
     "metadata": {},
     "output_type": "execute_result"
    }
   ],
   "source": [
    "nose[0]"
   ]
  },
  {
   "cell_type": "code",
   "execution_count": 17,
   "id": "9f667ff5",
   "metadata": {
    "colab": {
     "base_uri": "https://localhost:8080/"
    },
    "id": "z9EJf3tE56Nx",
    "outputId": "c896700b-a50e-43f7-8623-92bf1cbaa03e",
    "scrolled": true
   },
   "outputs": [
    {
     "name": "stdout",
     "output_type": "stream",
     "text": [
      "['high', 'nose', 'slight', 'view', 'nostrils', 'refined', 'nose', 'broad', 'nose', 'tip', 'low', 'short', 'big', 'nose', 'nostrils', 'half', 'visible']\n"
     ]
    }
   ],
   "source": [
    "print (nose_res[0])"
   ]
  },
  {
   "cell_type": "markdown",
   "id": "359c265a",
   "metadata": {
    "id": "hlt7r1xL56Nx"
   },
   "source": [
    "# 5. word2vec"
   ]
  },
  {
   "cell_type": "code",
   "execution_count": 18,
   "id": "a035cee0",
   "metadata": {
    "colab": {
     "base_uri": "https://localhost:8080/"
    },
    "id": "gzeot2BL56Ny",
    "outputId": "69888d79-70d6-4462-9fb5-478f127786f8"
   },
   "outputs": [
    {
     "name": "stdout",
     "output_type": "stream",
     "text": [
      "Requirement already satisfied: gensim in c:\\users\\jsm36\\anaconda3\\lib\\site-packages (4.1.2)\n",
      "Requirement already satisfied: scipy>=0.18.1 in c:\\users\\jsm36\\anaconda3\\lib\\site-packages (from gensim) (1.6.2)\n",
      "Requirement already satisfied: Cython==0.29.23 in c:\\users\\jsm36\\anaconda3\\lib\\site-packages (from gensim) (0.29.23)\n",
      "Requirement already satisfied: smart-open>=1.8.1 in c:\\users\\jsm36\\anaconda3\\lib\\site-packages (from gensim) (5.2.1)\n",
      "Requirement already satisfied: numpy>=1.17.0 in c:\\users\\jsm36\\anaconda3\\lib\\site-packages (from gensim) (1.20.1)\n"
     ]
    }
   ],
   "source": [
    "!pip install gensim"
   ]
  },
  {
   "cell_type": "code",
   "execution_count": 19,
   "id": "0dce1031",
   "metadata": {
    "id": "uY2NIT9q56Ny"
   },
   "outputs": [
    {
     "name": "stderr",
     "output_type": "stream",
     "text": [
      "C:\\Users\\jsm36\\anaconda3\\lib\\site-packages\\gensim\\similarities\\__init__.py:15: UserWarning: The gensim.similarities.levenshtein submodule is disabled, because the optional Levenshtein package <https://pypi.org/project/python-Levenshtein/> is unavailable. Install Levenhstein (e.g. `pip install python-Levenshtein`) to suppress this warning.\n",
      "  warnings.warn(msg)\n"
     ]
    }
   ],
   "source": [
    "from gensim.models import Word2Vec\n",
    "from gensim.models import KeyedVectors"
   ]
  },
  {
   "cell_type": "markdown",
   "id": "43b1bf38",
   "metadata": {
    "id": "Wqv3qxTO56Ny"
   },
   "source": [
    "- size = 워드 벡터의 특징 값. 즉, 임베딩 된 벡터의 차원. default값 100\n",
    "- window = 컨텍스트 윈도우 크기(고려할 앞뒤 폭)\n",
    "- min_count = 단어 최소 빈도 수 제한 (빈도가 적은 단어들은 학습하지 않는다.)\n",
    "- workers = 학습을 위한 프로세스 수(코어 수와 비슷하게 설정)\n",
    "- sg = 0은 CBOW, 1은 Skip-gram."
   ]
  },
  {
   "cell_type": "markdown",
   "id": "ee0b70a5",
   "metadata": {},
   "source": [
    "## 5.1 단어의 유사도 검색\n",
    "### (전처리가 완료된 전체 요소 이용)"
   ]
  },
  {
   "cell_type": "code",
   "execution_count": 45,
   "id": "387918ef",
   "metadata": {},
   "outputs": [],
   "source": [
    "#전처리가 완료된 얼굴의 문장을 하나로 합침\n",
    "new_s=[]\n",
    "for i in range(0,len(linetext)):\n",
    "    string=eye_res[i]+nose_res[i]+mouth_res[i]+face_res[i]+hair_res[i]+skin_res[i]+race_res[i]+age_res[i]+gender_res[i]\n",
    "    new_s.append(string)\n",
    "\n",
    "model = Word2Vec(sentences=new_s, vector_size=200, window=5, min_count=20, workers=4, sg=0,hs=0)"
   ]
  },
  {
   "cell_type": "code",
   "execution_count": 46,
   "id": "77985347",
   "metadata": {},
   "outputs": [],
   "source": [
    "def similar(word, cate):\n",
    "    if cate==\"None\":\n",
    "        s_tuple= model.wv.most_similar(word, topn=2)\n",
    "        m_tuple= ((str(word), 1.0), s_tuple[0],s_tuple[1])\n",
    "    else:\n",
    "        s_tuple= model.wv.most_similar(positive=[word, cate], topn=2)\n",
    "        m_tuple= ((str(word), 1.0), s_tuple[0],s_tuple[1])\n",
    "    return m_tuple"
   ]
  },
  {
   "cell_type": "code",
   "execution_count": 47,
   "id": "35ec1ca8",
   "metadata": {},
   "outputs": [
    {
     "data": {
      "text/plain": [
       "(('gray', 1.0), ('dark', 0.966046929359436), ('brown', 0.9332617521286011))"
      ]
     },
     "execution_count": 47,
     "metadata": {},
     "output_type": "execute_result"
    }
   ],
   "source": [
    "similar(\"gray\", \"color\")"
   ]
  },
  {
   "cell_type": "code",
   "execution_count": 23,
   "id": "6879e0dd",
   "metadata": {},
   "outputs": [],
   "source": [
    "#모델 저장\n",
    "#model.save('face_word2vec.model')\n",
    "# 저장한 모델을 불러 올 때는 .load()를 사용한다.\n",
    "#model = Word2Vec.load('face_word2vec.model')"
   ]
  },
  {
   "cell_type": "markdown",
   "id": "ee60a3a1",
   "metadata": {},
   "source": [
    "## 5.2 해당 단어+ 유사도의 특징 부위를 갖은 사람 찾기"
   ]
  },
  {
   "cell_type": "code",
   "execution_count": 48,
   "id": "537eddca",
   "metadata": {},
   "outputs": [
    {
     "name": "stdout",
     "output_type": "stream",
     "text": [
      "eye의 특징을 입력하세요: dark\n",
      "영어로 카테고리를 입력하세요(없으면 None): color\n",
      "[1, 1, 1, 1, 1, 1, 1, 1, 1, 1, 1, 1, 1, 1, 1, 1, 1, 1, 1, 1, 1, 1, 1, 1, 1, 1, 1, 1, 1, 1, 1, 1, 1, 1, 1, 1, 1, 1, 0, 1, 1, 1, 1, 1, 1, 1, 1, 1, 1, 1, 1, 1, 1, 1, 1, 1, 1, 1, 1, 1, 1, 1, 1, 1, 1, 1, 1, 1, 1, 1, 0, 1, 1, 1, 1, 0, 1, 1, 1, 1, 1, 1, 1, 1, 1, 1, 0, 1, 1, 1, 1, 1, 1, 1, 1, 1, 1, 1, 1, 1, 1, 1, 1, 1, 1, 1, 1, 1, 1, 1, 1, 1, 1, 1, 1, 0, 1, 1, 1, 1, 1, 1, 1, 1, 1, 1, 0, 1, 1, 1, 1, 1, 1, 1, 1, 0, 0, 1, 1, 1, 1, 1, 1, 0, 1, 0, 1, 1, 1, 1, 1, 1, 0, 1, 1, 0, 0, 1, 1, 1, 1, 1, 0, 1, 1, 1, 1, 1, 1, 0, 1, 1, 1, 1, 1, 1, 1, 1, 1, 0, 1, 1, 1, 1, 1, 1, 1, 1, 1, 1, 1, 1, 1, 1, 1, 1, 1, 1, 0, 1, 1, 1, 1, 0, 1, 1, 1, 0, 1, 1, 0, 1, 1, 1, 1, 1, 1, 0, 1, 1, 1, 1, 1, 1, 1, 0, 1, 1, 1, 1, 1, 1, 1, 1, 1, 1, 1, 0, 1, 1, 1, 1, 1, 1, 0, 1, 1, 1, 1, 1, 1, 1, 1, 1, 1, 1, 1, 1, 1, 1, 1, 1, 1, 1, 1, 1, 1, 1, 1, 1, 1, 1, 1, 1, 1, 1, 1, 1, 1, 1, 1, 1, 1, 1, 1, 1, 1, 1, 0, 1, 1, 1, 1, 1, 1, 0, 1, 1, 1, 1, 0, 1, 1, 1, 1, 1, 1, 1, 1, 1, 1, 1, 1, 1, 1, 1, 1, 1, 1, 1, 1, 1, 0, 1, 1, 1, 1, 1, 1, 0, 1, 1, 1, 1, 1, 1, 1, 1, 1, 1, 1, 1, 1, 1, 1, 1, 1, 1, 1, 0]\n"
     ]
    }
   ],
   "source": [
    "#1. eye가 유사한 사람 찾기\n",
    "eye_people = [0 for i in range(350)]\n",
    "word=input(\"eye의 특징을 입력하세요: \")\n",
    "category=input('영어로 카테고리를 입력하세요(없으면 None): ')\n",
    "\n",
    "for i in similar(word,category):\n",
    "    for j in range(len(eye_res)):#j번째 사람(인덱스)\n",
    "        for k in range(len(eye_res[j])): #i번째 단어\n",
    "            if i[0] == eye_res[j][k] and eye_people[j]<=0: # 유사단어와 같고 r값이 0이면 \n",
    "                eye_people[j]=eye_people[j]+1#인덱스에 +1\n",
    "                continue\n",
    "print(eye_people)"
   ]
  },
  {
   "cell_type": "code",
   "execution_count": 49,
   "id": "cc9db70c",
   "metadata": {},
   "outputs": [
    {
     "name": "stdout",
     "output_type": "stream",
     "text": [
      "nose의 특징을 입력하세요: big\n",
      "영어로 카테고리를 입력하세요(없으면 None): None\n",
      "[1, 1, 1, 1, 1, 1, 1, 1, 0, 1, 1, 1, 1, 1, 0, 1, 1, 1, 1, 0, 1, 0, 1, 1, 1, 1, 1, 1, 1, 1, 1, 0, 1, 0, 0, 1, 1, 1, 1, 1, 1, 1, 1, 1, 1, 1, 1, 1, 1, 1, 1, 1, 1, 1, 1, 1, 1, 1, 1, 1, 1, 1, 1, 1, 1, 1, 1, 1, 1, 1, 1, 1, 1, 1, 1, 1, 1, 1, 1, 1, 0, 1, 0, 1, 1, 0, 1, 0, 1, 1, 0, 1, 1, 1, 0, 1, 0, 0, 1, 0, 1, 1, 1, 1, 1, 1, 0, 1, 1, 1, 1, 1, 0, 1, 1, 1, 1, 1, 1, 1, 1, 1, 1, 0, 1, 1, 1, 1, 1, 1, 1, 1, 1, 0, 1, 0, 0, 1, 0, 1, 1, 1, 1, 1, 1, 1, 0, 1, 0, 1, 0, 0, 1, 0, 1, 1, 0, 0, 1, 0, 1, 1, 1, 1, 1, 1, 1, 0, 1, 1, 1, 1, 1, 1, 1, 1, 1, 0, 1, 0, 1, 0, 0, 1, 0, 1, 0, 0, 1, 1, 1, 1, 0, 1, 0, 0, 0, 1, 1, 1, 1, 1, 1, 1, 1, 1, 1, 0, 1, 1, 0, 1, 1, 1, 1, 1, 1, 1, 1, 1, 1, 1, 1, 1, 1, 1, 1, 1, 1, 0, 1, 1, 1, 1, 1, 1, 1, 1, 1, 1, 1, 1, 0, 0, 1, 1, 1, 1, 1, 1, 1, 1, 1, 1, 1, 1, 1, 1, 0, 0, 1, 1, 1, 1, 1, 1, 1, 0, 0, 1, 0, 1, 1, 1, 1, 1, 1, 1, 1, 0, 1, 1, 0, 0, 1, 1, 1, 1, 0, 1, 0, 1, 0, 0, 1, 0, 1, 1, 0, 1, 1, 0, 1, 1, 1, 1, 1, 1, 1, 1, 0, 0, 1, 1, 1, 1, 1, 0, 1, 0, 1, 1, 1, 0, 1, 1, 1, 0, 1, 1, 1, 1, 1, 1, 1, 1, 1, 1, 1, 0, 1, 1, 1, 0, 0, 0, 1, 0, 1, 0]\n"
     ]
    }
   ],
   "source": [
    "#2. nose가 유사한 사람 찾기\n",
    "nose_people = [0 for i in range(350)]\n",
    "word=input(\"nose의 특징을 입력하세요: \")\n",
    "category=input('영어로 카테고리를 입력하세요(없으면 None): ')\n",
    "\n",
    "for i in similar(word,category):\n",
    "    for j in range(len(nose_res)):#j번째 사람(인덱스)\n",
    "        for k in range(len(nose_res[j])): #i번째 단어\n",
    "            if i[0] == nose_res[j][k] and nose_people[j]<=0: # 유사단어와 같고\n",
    "                nose_people[j]=nose_people[j]+1\n",
    "                continue\n",
    "                \n",
    "print(nose_people)"
   ]
  },
  {
   "cell_type": "code",
   "execution_count": 50,
   "id": "0392057a",
   "metadata": {},
   "outputs": [
    {
     "name": "stdout",
     "output_type": "stream",
     "text": [
      "mouth의 특징을 입력하세요: smile\n",
      "영어로 카테고리를 입력하세요(없으면 None): None\n"
     ]
    }
   ],
   "source": [
    "#3. mouth가 유사한 사람 찾기\n",
    "mouth_people = [0 for i in range(350)]\n",
    "word=input(\"mouth의 특징을 입력하세요: \")\n",
    "category=input('영어로 카테고리를 입력하세요(없으면 None): ')\n",
    "\n",
    "for i in similar(word,category):\n",
    "    for j in range(len(mouth_res)):#j번째 사람(인덱스)\n",
    "        for k in range(len(mouth_res[j])): #i번째 단어\n",
    "            if i[0] == mouth_res[j][k] and mouth_people[j]<=0: # 유사단어와 같고\n",
    "                mouth_people[j]=mouth_people[j]+1\n",
    "                continue"
   ]
  },
  {
   "cell_type": "code",
   "execution_count": 56,
   "id": "eba0b666",
   "metadata": {},
   "outputs": [
    {
     "name": "stdout",
     "output_type": "stream",
     "text": [
      "face의 특징을 입력하세요: round\n",
      "영어로 카테고리를 입력하세요(없으면 None): None\n"
     ]
    }
   ],
   "source": [
    "#4. face가 유사한 사람 찾기\n",
    "face_people = [0 for i in range(350)]\n",
    "word=input(\"face의 특징을 입력하세요: \")\n",
    "category=input('영어로 카테고리를 입력하세요(없으면 None): ')\n",
    "\n",
    "for i in similar(word,category):\n",
    "    for j in range(len(face_res)):#j번째 사람(인덱스)\n",
    "        for k in range(len(face_res[j])): #i번째 단어\n",
    "            if i[0] == face_res[j][k] and face_people[j]<=0: # 유사단어와 같고\n",
    "                face_people[j]=face_people[j]+1\n",
    "                continue"
   ]
  },
  {
   "cell_type": "code",
   "execution_count": 57,
   "id": "b21cfa72",
   "metadata": {},
   "outputs": [
    {
     "name": "stdout",
     "output_type": "stream",
     "text": [
      "hair의 특징을 입력하세요: curly\n",
      "영어로 카테고리를 입력하세요(없으면 None): None\n"
     ]
    }
   ],
   "source": [
    "#5. hair가 유사한 사람 찾기\n",
    "hair_people = [0 for i in range(350)]\n",
    "word=input(\"hair의 특징을 입력하세요: \")\n",
    "category=input('영어로 카테고리를 입력하세요(없으면 None): ')\n",
    "\n",
    "for i in similar(word,category):\n",
    "    for j in range(len(hair_res)):#j번째 사람(인덱스)\n",
    "        for k in range(len(hair_res[j])): #i번째 단어\n",
    "            if i[0] == hair_res[j][k] and hair_people[j]<=0: # 유사단어와 같고\n",
    "                hair_people[j]=hair_people[j]+1\n",
    "                continue"
   ]
  },
  {
   "cell_type": "code",
   "execution_count": 58,
   "id": "f3be3e97",
   "metadata": {},
   "outputs": [
    {
     "name": "stdout",
     "output_type": "stream",
     "text": [
      "skin의 특징을 입력하세요: white\n",
      "영어로 카테고리를 입력하세요(없으면 None): color\n"
     ]
    }
   ],
   "source": [
    "#6. skin가 유사한 사람 찾기\n",
    "skin_people = [0 for i in range(350)]\n",
    "word=input(\"skin의 특징을 입력하세요: \")\n",
    "category=input('영어로 카테고리를 입력하세요(없으면 None): ')\n",
    "\n",
    "for i in similar(word,category):\n",
    "    for j in range(len(skin_res)):#j번째 사람(인덱스)\n",
    "        for k in range(len(skin_res[j])): #i번째 단어\n",
    "            if i[0] == skin_res[j][k] and skin_people[j]<=0: # 유사단어와 같고\n",
    "                skin_people[j]=skin_people[j]+1\n",
    "                continue"
   ]
  },
  {
   "cell_type": "code",
   "execution_count": 61,
   "id": "96c32763",
   "metadata": {},
   "outputs": [
    {
     "name": "stdout",
     "output_type": "stream",
     "text": [
      "race의 특징을 입력하세요: westerner\n",
      "영어로 카테고리를 입력하세요(없으면 None): None\n"
     ]
    }
   ],
   "source": [
    "#7. race가 유사한 사람 찾기\n",
    "race_people = [0 for i in range(350)]\n",
    "word=input(\"race의 특징을 입력하세요: \")\n",
    "category=input('영어로 카테고리를 입력하세요(없으면 None): ')\n",
    "\n",
    "for i in similar(word,category):\n",
    "    for j in range(len(race_res)):#j번째 사람(인덱스)\n",
    "        for k in range(len(race_res[j])): #i번째 단어\n",
    "            if i[0] == race_res[j][k] and race_people[j]<=0: # 유사단어와 같고\n",
    "                race_people[j]=race_people[j]+1\n",
    "                continue"
   ]
  },
  {
   "cell_type": "code",
   "execution_count": 67,
   "id": "2ad5605e",
   "metadata": {},
   "outputs": [
    {
     "name": "stdout",
     "output_type": "stream",
     "text": [
      "age의 특징을 입력하세요: twenties\n",
      "영어로 카테고리를 입력하세요(없으면 None): None\n"
     ]
    }
   ],
   "source": [
    "#8. age가 유사한 사람 찾기\n",
    "age_people = [0 for i in range(350)]\n",
    "word=input(\"age의 특징을 입력하세요: \")\n",
    "category=input('영어로 카테고리를 입력하세요(없으면 None): ')\n",
    "\n",
    "for i in similar(word,category):\n",
    "    for j in range(len(age_res)):#j번째 사람(인덱스)\n",
    "        for k in range(len(age_res[j])): #i번째 단어\n",
    "            if i[0] == age_res[j][k] and age_people[j]<=0: # 유사단어와 같고\n",
    "                age_people[j]=age_people[j]+1\n",
    "                continue"
   ]
  },
  {
   "cell_type": "code",
   "execution_count": 68,
   "id": "cc9a6e41",
   "metadata": {},
   "outputs": [
    {
     "name": "stdout",
     "output_type": "stream",
     "text": [
      "gender의 특징을 입력하세요: man\n",
      "영어로 카테고리를 입력하세요(없으면 None): None\n"
     ]
    }
   ],
   "source": [
    "#9. gender가 유사한 사람 찾기\n",
    "gender_people = [0 for i in range(350)]\n",
    "word=input(\"gender의 특징을 입력하세요: \")\n",
    "category=input('영어로 카테고리를 입력하세요(없으면 None): ')\n",
    "\n",
    "for i in similar(word,category):\n",
    "    for j in range(len(gender_res)):#j번째 사람(인덱스)\n",
    "        for k in range(len(gender_res[j])): #i번째 단어\n",
    "            if i[0] == gender_res[j][k] and gender_people[j]<=0: # 유사단어와 같고\n",
    "                gender_people[j]=gender_people[j]+1\n",
    "                continue"
   ]
  },
  {
   "cell_type": "code",
   "execution_count": 69,
   "id": "80965f0e",
   "metadata": {},
   "outputs": [
    {
     "name": "stdout",
     "output_type": "stream",
     "text": [
      "[8, 7, 6, 9, 7, 9, 8, 8, 7, 7, 9, 7, 8, 7, 7, 8, 6, 8, 8, 7, 8, 5, 7, 8, 8, 7, 8, 5, 7, 6, 8, 8, 8, 6, 7, 9, 7, 7, 5, 7, 6, 6, 7, 6, 7, 6, 7, 6, 6, 6, 6, 6, 5, 5, 6, 6, 6, 6, 6, 6, 6, 6, 6, 6, 6, 5, 7, 5, 5, 6, 6, 7, 5, 5, 4, 6, 7, 5, 6, 7, 5, 7, 3, 4, 5, 5, 5, 3, 5, 7, 6, 5, 6, 6, 3, 5, 5, 4, 4, 3, 6, 6, 5, 6, 6, 6, 5, 5, 5, 6, 5, 5, 6, 6, 6, 5, 6, 5, 6, 6, 5, 5, 6, 5, 6, 5, 5, 7, 5, 6, 7, 5, 8, 5, 5, 4, 4, 5, 5, 7, 7, 5, 5, 5, 7, 5, 5, 7, 5, 7, 5, 6, 5, 5, 6, 7, 3, 6, 7, 6, 6, 5, 5, 4, 6, 6, 5, 5, 7, 4, 5, 6, 6, 6, 6, 6, 6, 6, 7, 3, 6, 5, 5, 6, 6, 6, 4, 6, 6, 7, 6, 6, 6, 5, 6, 5, 5, 7, 7, 6, 7, 5, 8, 5, 6, 5, 6, 4, 6, 6, 4, 6, 5, 6, 6, 5, 7, 5, 6, 6, 6, 4, 6, 6, 6, 5, 5, 6, 5, 5, 6, 6, 6, 6, 6, 5, 6, 5, 6, 6, 6, 5, 5, 4, 5, 6, 5, 5, 5, 5, 7, 7, 7, 8, 7, 7, 7, 6, 6, 5, 6, 6, 6, 7, 6, 6, 7, 6, 6, 7, 5, 7, 7, 7, 7, 6, 6, 7, 6, 5, 7, 7, 5, 6, 7, 7, 7, 7, 4, 7, 6, 6, 5, 6, 6, 5, 7, 7, 7, 7, 7, 6, 7, 8, 6, 6, 7, 7, 6, 7, 5, 6, 7, 7, 6, 7, 7, 6, 7, 6, 6, 6, 6, 6, 7, 8, 6, 6, 7, 6, 8, 7, 6, 7, 7, 7, 7, 7, 7, 6, 7, 7, 7, 6, 6, 4, 7, 6, 7, 3]\n"
     ]
    }
   ],
   "source": [
    "simi_people=[eye_people[i] + nose_people[i]+ mouth_people[i]+ face_people[i]+hair_people[i]+ skin_people[i]+ race_people[i]+ age_people[i]+ gender_people[i]for i in range(len(eye_people))]\n",
    "print(simi_people)"
   ]
  },
  {
   "cell_type": "code",
   "execution_count": 70,
   "id": "3aef236d",
   "metadata": {},
   "outputs": [
    {
     "name": "stdout",
     "output_type": "stream",
     "text": [
      "가장 유사도가 높은 사람은: 3 번째이다.\n",
      "가장 유사도가 높은 사람은: 5 번째이다.\n",
      "가장 유사도가 높은 사람은: 10 번째이다.\n",
      "가장 유사도가 높은 사람은: 35 번째이다.\n"
     ]
    }
   ],
   "source": [
    "for i in range(len(simi_people)):\n",
    "    if simi_people[i] == max(simi_people):\n",
    "        print(\"가장 유사도가 높은 사람은:\",i,\"번째이다.\")"
   ]
  }
 ],
 "metadata": {
  "colab": {
   "collapsed_sections": [],
   "name": "문장_나누기 (4).ipynb",
   "provenance": []
  },
  "kernelspec": {
   "display_name": "Python 3",
   "language": "python",
   "name": "python3"
  },
  "language_info": {
   "codemirror_mode": {
    "name": "ipython",
    "version": 3
   },
   "file_extension": ".py",
   "mimetype": "text/x-python",
   "name": "python",
   "nbconvert_exporter": "python",
   "pygments_lexer": "ipython3",
   "version": "3.8.8"
  }
 },
 "nbformat": 4,
 "nbformat_minor": 5
}
